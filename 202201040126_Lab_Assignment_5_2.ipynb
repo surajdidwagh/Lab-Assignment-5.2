{
  "nbformat": 4,
  "nbformat_minor": 0,
  "metadata": {
    "colab": {
      "provenance": [],
      "gpuType": "T4"
    },
    "kernelspec": {
      "name": "python3",
      "display_name": "Python 3"
    },
    "language_info": {
      "name": "python"
    },
    "accelerator": "GPU"
  },
  "cells": [
    {
      "cell_type": "markdown",
      "source": [
        "# Deep Learning Lab Assignment 5.2\n",
        "\n",
        "**Course Name:** PEC Deep Learning\n",
        "\n",
        "**Lab Title:** Sequence Text Prediction using LSTM\n",
        "\n",
        "**Student Name:** Suraj Didwagh\n",
        "\n",
        "**Student ID:** 202201040126\n",
        "\n",
        "**Date of Submission:** 14/04/25\n",
        "\n",
        "**Group Members**:\n",
        "1. Shriram Savant\n",
        "2. Prathamesh Galugade\n",
        "3. Punit Kawadkar"
      ],
      "metadata": {
        "id": "MK-kHaGatc_v"
      }
    },
    {
      "cell_type": "markdown",
      "source": [
        "# Part I: Paper and Dataset Selection\n",
        "\n",
        "## 1.1 Research Paper Identification\n",
        "\n",
        "**Objective:**  \n",
        "Choose a research paper that illustrates LSTM for sequence prediction.\n",
        "\n",
        "**Chosen Research Paper:**  \n",
        "[Generating Sequences with Recurrent Neural Networks](https://arxiv.org/abs/1308.0850) by Alex Graves.\n",
        "\n",
        "**Summary:**  \n",
        "The paper presents an in-depth exploration of using LSTM networks for sequence generation. Key points include:\n",
        "\n",
        "- **Core Approaches:**  \n",
        "  The use of deep LSTM architectures to learn complex dependencies in sequential data and generate new content by predicting subsequent elements.\n",
        "\n",
        "- **Network Architecture:**  \n",
        "  The paper introduces multi-layer LSTM networks that can capture long-term dependencies effectively, making them suitable for tasks like handwriting synthesis and text generation.\n",
        "\n",
        "- **Training Strategy:**  \n",
        "  Training is performed using backpropagation through time (BPTT) with precautions such as gradient clipping to handle exploding gradients, and dropout to reduce overfitting.\n",
        "\n",
        "- **Evaluation Metrics:**  \n",
        "  The primary metric is cross-entropy loss, which quantifies the difference between the predicted and actual distributions, along with qualitative analysis of the generated sequences.\n",
        "\n",
        "**Justification for Selection:**  \n",
        "This paper is seminal in applying LSTMs for sequence prediction and provides a robust methodology that directly aligns with our project objectives. Its detailed exploration of network design and training techniques makes it a valuable reference for implementing and analyzing our own LSTM-based text prediction model.\n",
        "\n",
        "## 1.2 Dataset Selection\n",
        "\n",
        "**Chosen Dataset:**  \n",
        "Shakespeare’s Text from TensorFlow Datasets\n",
        "\n",
        "**Dataset Description:**  \n",
        "This dataset is a curated collection of texts from the works of William Shakespeare. Its diverse and rich language structure makes it well suited for sequence prediction tasks, where the goal is to generate coherent and contextually relevant text.\n",
        "\n",
        "**Online Source/Link:**  \n",
        "[Shakespeare Dataset on TensorFlow Datasets](https://www.tensorflow.org/datasets/catalog/tiny_shakespeare)\n",
        "\n",
        "**Downloading/Loading Procedure:**  \n",
        "In Part III, we will detail the step-by-step instructions and the code to load this dataset using the `tensorflow_datasets` library. This typically involves importing the library, using the `tfds.load` function, and exploring the dataset’s contents.\n",
        "\n",
        "---\n"
      ],
      "metadata": {
        "id": "ZEg1rs7JetWC"
      }
    },
    {
      "cell_type": "markdown",
      "source": [
        "# Part II: Environment Setup\n",
        "\n",
        "## 2.1 Software and Libraries Setup\n",
        "\n",
        "**Objective:**  \n",
        "Set up your Python environment using a Jupyter Notebook or Python script with the necessary libraries required for the project. The key libraries include TensorFlow/Keras, NumPy, Matplotlib, and TensorFlow Datasets among others.\n",
        "\n",
        "**Steps and Deliverables:**  \n",
        "- Create a `requirements.txt` file to record all dependencies.\n",
        "- Document the installation commands and versions of libraries used.\n",
        "- Ensure that the environment can support GPU acceleration (if available) to speed up model training.\n",
        "\n",
        "**Notes:**  \n",
        "The following libraries should be installed:\n",
        "- TensorFlow (which includes Keras)\n",
        "- NumPy\n",
        "- Matplotlib\n",
        "- TensorFlow Datasets\n",
        "\n",
        "For example, using pip the installation command would be similar to:  \n",
        "```bash\n",
        "pip install tensorflow numpy matplotlib tensorflow-datasets\n"
      ],
      "metadata": {
        "id": "c6mkefJoe_RF"
      }
    },
    {
      "cell_type": "code",
      "source": [
        "%%bash\n",
        "cat <<EOF > requirements.txt\n",
        "tensorflow>=2.5.0\n",
        "numpy>=1.19.5\n",
        "matplotlib>=3.3.4\n",
        "tensorflow-datasets>=4.0.0\n",
        "EOF\n"
      ],
      "metadata": {
        "id": "5naWbFFufMrs"
      },
      "execution_count": null,
      "outputs": []
    },
    {
      "cell_type": "code",
      "source": [
        "!pip install -r requirements.txt\n"
      ],
      "metadata": {
        "colab": {
          "base_uri": "https://localhost:8080/"
        },
        "id": "qXsh46yafPcT",
        "outputId": "57c0cd63-71f7-4903-bb9d-d6591da992b6"
      },
      "execution_count": null,
      "outputs": [
        {
          "output_type": "stream",
          "name": "stdout",
          "text": [
            "Requirement already satisfied: tensorflow>=2.5.0 in /usr/local/lib/python3.11/dist-packages (from -r requirements.txt (line 1)) (2.18.0)\n",
            "Requirement already satisfied: numpy>=1.19.5 in /usr/local/lib/python3.11/dist-packages (from -r requirements.txt (line 2)) (2.0.2)\n",
            "Requirement already satisfied: matplotlib>=3.3.4 in /usr/local/lib/python3.11/dist-packages (from -r requirements.txt (line 3)) (3.10.0)\n",
            "Requirement already satisfied: tensorflow-datasets>=4.0.0 in /usr/local/lib/python3.11/dist-packages (from -r requirements.txt (line 4)) (4.9.8)\n",
            "Requirement already satisfied: absl-py>=1.0.0 in /usr/local/lib/python3.11/dist-packages (from tensorflow>=2.5.0->-r requirements.txt (line 1)) (1.4.0)\n",
            "Requirement already satisfied: astunparse>=1.6.0 in /usr/local/lib/python3.11/dist-packages (from tensorflow>=2.5.0->-r requirements.txt (line 1)) (1.6.3)\n",
            "Requirement already satisfied: flatbuffers>=24.3.25 in /usr/local/lib/python3.11/dist-packages (from tensorflow>=2.5.0->-r requirements.txt (line 1)) (25.2.10)\n",
            "Requirement already satisfied: gast!=0.5.0,!=0.5.1,!=0.5.2,>=0.2.1 in /usr/local/lib/python3.11/dist-packages (from tensorflow>=2.5.0->-r requirements.txt (line 1)) (0.6.0)\n",
            "Requirement already satisfied: google-pasta>=0.1.1 in /usr/local/lib/python3.11/dist-packages (from tensorflow>=2.5.0->-r requirements.txt (line 1)) (0.2.0)\n",
            "Requirement already satisfied: libclang>=13.0.0 in /usr/local/lib/python3.11/dist-packages (from tensorflow>=2.5.0->-r requirements.txt (line 1)) (18.1.1)\n",
            "Requirement already satisfied: opt-einsum>=2.3.2 in /usr/local/lib/python3.11/dist-packages (from tensorflow>=2.5.0->-r requirements.txt (line 1)) (3.4.0)\n",
            "Requirement already satisfied: packaging in /usr/local/lib/python3.11/dist-packages (from tensorflow>=2.5.0->-r requirements.txt (line 1)) (24.2)\n",
            "Requirement already satisfied: protobuf!=4.21.0,!=4.21.1,!=4.21.2,!=4.21.3,!=4.21.4,!=4.21.5,<6.0.0dev,>=3.20.3 in /usr/local/lib/python3.11/dist-packages (from tensorflow>=2.5.0->-r requirements.txt (line 1)) (5.29.4)\n",
            "Requirement already satisfied: requests<3,>=2.21.0 in /usr/local/lib/python3.11/dist-packages (from tensorflow>=2.5.0->-r requirements.txt (line 1)) (2.32.3)\n",
            "Requirement already satisfied: setuptools in /usr/local/lib/python3.11/dist-packages (from tensorflow>=2.5.0->-r requirements.txt (line 1)) (75.2.0)\n",
            "Requirement already satisfied: six>=1.12.0 in /usr/local/lib/python3.11/dist-packages (from tensorflow>=2.5.0->-r requirements.txt (line 1)) (1.17.0)\n",
            "Requirement already satisfied: termcolor>=1.1.0 in /usr/local/lib/python3.11/dist-packages (from tensorflow>=2.5.0->-r requirements.txt (line 1)) (3.0.1)\n",
            "Requirement already satisfied: typing-extensions>=3.6.6 in /usr/local/lib/python3.11/dist-packages (from tensorflow>=2.5.0->-r requirements.txt (line 1)) (4.13.1)\n",
            "Requirement already satisfied: wrapt>=1.11.0 in /usr/local/lib/python3.11/dist-packages (from tensorflow>=2.5.0->-r requirements.txt (line 1)) (1.17.2)\n",
            "Requirement already satisfied: grpcio<2.0,>=1.24.3 in /usr/local/lib/python3.11/dist-packages (from tensorflow>=2.5.0->-r requirements.txt (line 1)) (1.71.0)\n",
            "Requirement already satisfied: tensorboard<2.19,>=2.18 in /usr/local/lib/python3.11/dist-packages (from tensorflow>=2.5.0->-r requirements.txt (line 1)) (2.18.0)\n",
            "Requirement already satisfied: keras>=3.5.0 in /usr/local/lib/python3.11/dist-packages (from tensorflow>=2.5.0->-r requirements.txt (line 1)) (3.8.0)\n",
            "Requirement already satisfied: h5py>=3.11.0 in /usr/local/lib/python3.11/dist-packages (from tensorflow>=2.5.0->-r requirements.txt (line 1)) (3.13.0)\n",
            "Requirement already satisfied: ml-dtypes<0.5.0,>=0.4.0 in /usr/local/lib/python3.11/dist-packages (from tensorflow>=2.5.0->-r requirements.txt (line 1)) (0.4.1)\n",
            "Requirement already satisfied: tensorflow-io-gcs-filesystem>=0.23.1 in /usr/local/lib/python3.11/dist-packages (from tensorflow>=2.5.0->-r requirements.txt (line 1)) (0.37.1)\n",
            "Requirement already satisfied: contourpy>=1.0.1 in /usr/local/lib/python3.11/dist-packages (from matplotlib>=3.3.4->-r requirements.txt (line 3)) (1.3.1)\n",
            "Requirement already satisfied: cycler>=0.10 in /usr/local/lib/python3.11/dist-packages (from matplotlib>=3.3.4->-r requirements.txt (line 3)) (0.12.1)\n",
            "Requirement already satisfied: fonttools>=4.22.0 in /usr/local/lib/python3.11/dist-packages (from matplotlib>=3.3.4->-r requirements.txt (line 3)) (4.57.0)\n",
            "Requirement already satisfied: kiwisolver>=1.3.1 in /usr/local/lib/python3.11/dist-packages (from matplotlib>=3.3.4->-r requirements.txt (line 3)) (1.4.8)\n",
            "Requirement already satisfied: pillow>=8 in /usr/local/lib/python3.11/dist-packages (from matplotlib>=3.3.4->-r requirements.txt (line 3)) (11.1.0)\n",
            "Requirement already satisfied: pyparsing>=2.3.1 in /usr/local/lib/python3.11/dist-packages (from matplotlib>=3.3.4->-r requirements.txt (line 3)) (3.2.3)\n",
            "Requirement already satisfied: python-dateutil>=2.7 in /usr/local/lib/python3.11/dist-packages (from matplotlib>=3.3.4->-r requirements.txt (line 3)) (2.8.2)\n",
            "Requirement already satisfied: array_record>=0.5.0 in /usr/local/lib/python3.11/dist-packages (from tensorflow-datasets>=4.0.0->-r requirements.txt (line 4)) (0.7.1)\n",
            "Requirement already satisfied: dm-tree in /usr/local/lib/python3.11/dist-packages (from tensorflow-datasets>=4.0.0->-r requirements.txt (line 4)) (0.1.9)\n",
            "Requirement already satisfied: etils>=1.9.1 in /usr/local/lib/python3.11/dist-packages (from etils[edc,enp,epath,epy,etree]>=1.9.1; python_version >= \"3.11\"->tensorflow-datasets>=4.0.0->-r requirements.txt (line 4)) (1.12.2)\n",
            "Requirement already satisfied: immutabledict in /usr/local/lib/python3.11/dist-packages (from tensorflow-datasets>=4.0.0->-r requirements.txt (line 4)) (4.2.1)\n",
            "Requirement already satisfied: promise in /usr/local/lib/python3.11/dist-packages (from tensorflow-datasets>=4.0.0->-r requirements.txt (line 4)) (2.3)\n",
            "Requirement already satisfied: psutil in /usr/local/lib/python3.11/dist-packages (from tensorflow-datasets>=4.0.0->-r requirements.txt (line 4)) (5.9.5)\n",
            "Requirement already satisfied: pyarrow in /usr/local/lib/python3.11/dist-packages (from tensorflow-datasets>=4.0.0->-r requirements.txt (line 4)) (18.1.0)\n",
            "Requirement already satisfied: simple_parsing in /usr/local/lib/python3.11/dist-packages (from tensorflow-datasets>=4.0.0->-r requirements.txt (line 4)) (0.1.7)\n",
            "Requirement already satisfied: tensorflow-metadata in /usr/local/lib/python3.11/dist-packages (from tensorflow-datasets>=4.0.0->-r requirements.txt (line 4)) (1.17.0)\n",
            "Requirement already satisfied: toml in /usr/local/lib/python3.11/dist-packages (from tensorflow-datasets>=4.0.0->-r requirements.txt (line 4)) (0.10.2)\n",
            "Requirement already satisfied: tqdm in /usr/local/lib/python3.11/dist-packages (from tensorflow-datasets>=4.0.0->-r requirements.txt (line 4)) (4.67.1)\n",
            "Requirement already satisfied: wheel<1.0,>=0.23.0 in /usr/local/lib/python3.11/dist-packages (from astunparse>=1.6.0->tensorflow>=2.5.0->-r requirements.txt (line 1)) (0.45.1)\n",
            "Requirement already satisfied: einops in /usr/local/lib/python3.11/dist-packages (from etils[edc,enp,epath,epy,etree]>=1.9.1; python_version >= \"3.11\"->tensorflow-datasets>=4.0.0->-r requirements.txt (line 4)) (0.8.1)\n",
            "Requirement already satisfied: fsspec in /usr/local/lib/python3.11/dist-packages (from etils[edc,enp,epath,epy,etree]>=1.9.1; python_version >= \"3.11\"->tensorflow-datasets>=4.0.0->-r requirements.txt (line 4)) (2025.3.2)\n",
            "Requirement already satisfied: importlib_resources in /usr/local/lib/python3.11/dist-packages (from etils[edc,enp,epath,epy,etree]>=1.9.1; python_version >= \"3.11\"->tensorflow-datasets>=4.0.0->-r requirements.txt (line 4)) (6.5.2)\n",
            "Requirement already satisfied: zipp in /usr/local/lib/python3.11/dist-packages (from etils[edc,enp,epath,epy,etree]>=1.9.1; python_version >= \"3.11\"->tensorflow-datasets>=4.0.0->-r requirements.txt (line 4)) (3.21.0)\n",
            "Requirement already satisfied: rich in /usr/local/lib/python3.11/dist-packages (from keras>=3.5.0->tensorflow>=2.5.0->-r requirements.txt (line 1)) (13.9.4)\n",
            "Requirement already satisfied: namex in /usr/local/lib/python3.11/dist-packages (from keras>=3.5.0->tensorflow>=2.5.0->-r requirements.txt (line 1)) (0.0.8)\n",
            "Requirement already satisfied: optree in /usr/local/lib/python3.11/dist-packages (from keras>=3.5.0->tensorflow>=2.5.0->-r requirements.txt (line 1)) (0.14.1)\n",
            "Requirement already satisfied: charset-normalizer<4,>=2 in /usr/local/lib/python3.11/dist-packages (from requests<3,>=2.21.0->tensorflow>=2.5.0->-r requirements.txt (line 1)) (3.4.1)\n",
            "Requirement already satisfied: idna<4,>=2.5 in /usr/local/lib/python3.11/dist-packages (from requests<3,>=2.21.0->tensorflow>=2.5.0->-r requirements.txt (line 1)) (3.10)\n",
            "Requirement already satisfied: urllib3<3,>=1.21.1 in /usr/local/lib/python3.11/dist-packages (from requests<3,>=2.21.0->tensorflow>=2.5.0->-r requirements.txt (line 1)) (2.3.0)\n",
            "Requirement already satisfied: certifi>=2017.4.17 in /usr/local/lib/python3.11/dist-packages (from requests<3,>=2.21.0->tensorflow>=2.5.0->-r requirements.txt (line 1)) (2025.1.31)\n",
            "Requirement already satisfied: markdown>=2.6.8 in /usr/local/lib/python3.11/dist-packages (from tensorboard<2.19,>=2.18->tensorflow>=2.5.0->-r requirements.txt (line 1)) (3.7)\n",
            "Requirement already satisfied: tensorboard-data-server<0.8.0,>=0.7.0 in /usr/local/lib/python3.11/dist-packages (from tensorboard<2.19,>=2.18->tensorflow>=2.5.0->-r requirements.txt (line 1)) (0.7.2)\n",
            "Requirement already satisfied: werkzeug>=1.0.1 in /usr/local/lib/python3.11/dist-packages (from tensorboard<2.19,>=2.18->tensorflow>=2.5.0->-r requirements.txt (line 1)) (3.1.3)\n",
            "Requirement already satisfied: attrs>=18.2.0 in /usr/local/lib/python3.11/dist-packages (from dm-tree->tensorflow-datasets>=4.0.0->-r requirements.txt (line 4)) (25.3.0)\n",
            "Requirement already satisfied: docstring-parser<1.0,>=0.15 in /usr/local/lib/python3.11/dist-packages (from simple_parsing->tensorflow-datasets>=4.0.0->-r requirements.txt (line 4)) (0.16)\n",
            "Requirement already satisfied: googleapis-common-protos<2,>=1.56.4 in /usr/local/lib/python3.11/dist-packages (from tensorflow-metadata->tensorflow-datasets>=4.0.0->-r requirements.txt (line 4)) (1.69.2)\n",
            "Requirement already satisfied: MarkupSafe>=2.1.1 in /usr/local/lib/python3.11/dist-packages (from werkzeug>=1.0.1->tensorboard<2.19,>=2.18->tensorflow>=2.5.0->-r requirements.txt (line 1)) (3.0.2)\n",
            "Requirement already satisfied: markdown-it-py>=2.2.0 in /usr/local/lib/python3.11/dist-packages (from rich->keras>=3.5.0->tensorflow>=2.5.0->-r requirements.txt (line 1)) (3.0.0)\n",
            "Requirement already satisfied: pygments<3.0.0,>=2.13.0 in /usr/local/lib/python3.11/dist-packages (from rich->keras>=3.5.0->tensorflow>=2.5.0->-r requirements.txt (line 1)) (2.18.0)\n",
            "Requirement already satisfied: mdurl~=0.1 in /usr/local/lib/python3.11/dist-packages (from markdown-it-py>=2.2.0->rich->keras>=3.5.0->tensorflow>=2.5.0->-r requirements.txt (line 1)) (0.1.2)\n"
          ]
        }
      ]
    },
    {
      "cell_type": "markdown",
      "source": [
        "# Part III: Data Loading and Preprocessing\n",
        "\n",
        "## 3.1 Data Downloading/Loading\n",
        "\n",
        "**Objective:**  \n",
        "Download and load the chosen dataset (Shakespeare’s Text) using TensorFlow Datasets.\n",
        "\n",
        "**Tasks:**  \n",
        "- Use the `tensorflow_datasets` library to load the Shakespeare dataset (we use the “tiny_shakespeare” variant available on TensorFlow Datasets).\n",
        "- Verify that the dataset is loaded properly.\n",
        "- Provide code that demonstrates the downloading/loading process and prints essential dataset information.\n",
        "\n",
        "**Deliverable:**  \n",
        "A code snippet that downloads and loads the dataset with detailed comments explaining each step.\n",
        "\n",
        "---\n",
        "\n",
        "## 3.2 Data Exploration\n",
        "\n",
        "**Objective:**  \n",
        "Explore and visualize the dataset to understand its structure and properties.\n",
        "\n",
        "**Tasks:**  \n",
        "- Display a sample of the texts from the dataset.\n",
        "- Calculate and print the total length of the text corpus.\n",
        "- Compute basic statistics such as the vocabulary size, and display the vocabulary.\n",
        "- Optionally, visualize key aspects of the data (e.g., a histogram of word lengths).\n",
        "\n",
        "**Deliverable:**  \n",
        "Code (with output) demonstrating the exploration of the dataset.\n",
        "\n",
        "---\n",
        "\n",
        "## 3.3 Data Preprocessing\n",
        "\n",
        "**Objective:**  \n",
        "Prepare the raw text data for model training by converting it into a suitable numerical format.\n",
        "\n",
        "**Tasks:**  \n",
        "- Clean the text data if needed.\n",
        "- Implement tokenization (we demonstrate character-level tokenization).\n",
        "- Create a mapping from tokens to indices and vice versa.\n",
        "- Convert the entire text corpus into its integer representation.\n",
        "- Generate input-output sequences for training the LSTM model (using a fixed sequence length).\n",
        "- Define a small helper function to split each sequence into the input sequence and its corresponding target sequence.\n",
        "\n",
        "**Deliverable:**  \n",
        "A data preprocessing pipeline implemented as functions with detailed comments and code snippets.\n",
        "\n",
        "---\n",
        "\n",
        "**Integration Note:**  \n",
        "Ensure that these steps build directly on the environment and setup established in Parts I and II, so that the loaded and processed dataset can be directly used for model building in subsequent parts.\n"
      ],
      "metadata": {
        "id": "J9WbInuGfv4f"
      }
    },
    {
      "cell_type": "markdown",
      "source": [
        "###Data Downloading"
      ],
      "metadata": {
        "id": "2ER6DNq3fzOu"
      }
    },
    {
      "cell_type": "code",
      "source": [
        "import tensorflow_datasets as tfds\n",
        "import tensorflow as tf\n",
        "\n",
        "# Load the tiny_shakespeare dataset from TensorFlow Datasets\n",
        "ds, ds_info = tfds.load('tiny_shakespeare', with_info=True, as_supervised=False)\n",
        "print(ds_info)\n",
        "\n",
        "# The dataset is a tf.data.Dataset containing a single text file.\n",
        "# Concatenate all text entries into one string\n",
        "shakespeare_text = \"\"\n",
        "for example in ds['train']:\n",
        "    # Each example is a dictionary; 'text' key contains the raw Shakespeare text\n",
        "    shakespeare_text += example['text'].numpy().decode('utf-8') + \"\\n\"\n",
        "\n",
        "print(\"Length of Shakespeare corpus:\", len(shakespeare_text))\n"
      ],
      "metadata": {
        "colab": {
          "base_uri": "https://localhost:8080/",
          "height": 949,
          "referenced_widgets": [
            "0c30f93cc39b42e3a3629f9d4b7595da",
            "1496dbc4681743a69022e447e675ca0c",
            "a40d8e8ede454a36aa6f57bcd50e7822",
            "efa296b8ac944d6c8532d7353f1c0a85",
            "60771eae1a514e26ac2f77c099fa2015",
            "1e4d635ee9804a938aadfc4740eba2f0",
            "99a3cfc710b34e4e9a3fa639091cbce7",
            "907d4026551f4de9b4cbf81beb6da8ea",
            "ed39c277b63c4531a41a6eb8d5ff7878",
            "fce61592bab149c79408a23ed4948cf8",
            "146aec8a0eb84864ae4c1eb8847b0d9c",
            "d05f89165a7e4b4cbddfc4d37811a853",
            "7c62d3a265684b71a956e01d3a1491b3",
            "581e4d848ecd480797fad5aefca362fb",
            "6ce2a1542be742c0b9a29d6c96d3cc1a",
            "faeb8cb87d214f3babb509e5b369c12a",
            "6e14634ca8af449a84844e9d12d3dae2",
            "524718ca84a94936a5806b9b1f3254f9",
            "b945b20f62fb45d0b6083f860b1b643a",
            "64d6e3efbfcc4d0289123a00c99d2650",
            "44dc0182e2464d6db3b02b1f09130f15",
            "08b7ce8e31cd4a8cb12169ab6bd7b171",
            "bf217dfe8b514d4cad16ab06f2231171",
            "bdb479d94b29427095033dd2708f42ef",
            "328ee4f47d1e4b1a8f84b30940fdf31f",
            "e023d6c6b1b64984a397054b103d0d67",
            "db9ce9decfd74a50846f1d8d53fe4f2f",
            "8f3d9198545245c2980379239d917c83",
            "fbcf3848aa05418d92672657a81615d6",
            "135e15edf44546869cc236f354b8199a",
            "951d476d37414d5da6aa4d719906255f",
            "e8004044ae46443bbb3a842e105fdd70",
            "a88cd630941f4661a9eba1fd7cb08438",
            "c97ac14d1c534370b4e6459590eb3930",
            "79fe390df1754ef9886b3fd29faab388",
            "44e6f4163820480b8bae1c1e07010cd8",
            "00a2f41f6e42444cb2d9c07d3433fd27",
            "98852be119f548b8b611eb525092508f",
            "e663d4edca504cfab599af0b2d9d2535",
            "af57a480afbf4b11a69492f49d1ca90e",
            "1b6f728a50a84f1583dc563da4da0609",
            "a252885c4c3c45d791c05befbb076ea6",
            "00edca1525b84a3b8f114e8233eefb36",
            "a2d95b1ba4d746aaafa6e9fffc64ff23",
            "9aaffe73a2b945acb1905e0a805cbc04",
            "3d068d7578f8461fb06648a80f68c6c3",
            "95acd975d2684d27a4af3efe5892e619",
            "fffa34a05d9844848edfb29c283b8173",
            "1dfe056477ad4b449b40188b6dabd9e9",
            "5f9dc797ebe14bb19eb0cea7fb31cec3",
            "775466dd84f84cecbe6baf3519c03f19",
            "08d3f29fc8764ef799f6a136a615a716",
            "57638ccf97ca47249beb373b9b29ab90",
            "faec3c4d104d4ea69e4aa662872a265f",
            "9a2de225d0a04554919998251eb6b04c",
            "644a8c1501ec4f518ae637c0bce6e5c8",
            "67a080df0f6a4b9f94a4e042709beac6",
            "fc11455dc8294aa986d1693fc61a5f29",
            "6d78cda1c68345b88c15971fd04c6bcf",
            "95d8e4edaaef48f3b30795e43eb4c1cd",
            "3303435dac094b81955eb431e3b784be",
            "be91213b71a84f9c902e8f0bcb309f08",
            "347593d1698046339edd31a71757eaa4",
            "7a6b2aac82cb4b3eab2604c1f9a93701",
            "438c3f4a6325401ea2a02154c2a00a9a",
            "ee36afa295fd46faa4d6a9e8518f88c9",
            "14a876d7f6db49a59c6299213d44be17",
            "b20cf82e1eb447aca1021b4d4155dff2",
            "7e6b0da58c254b94bf2669eaaa8fce85",
            "b8b18b3d313a41d2b8027587ae26bd43",
            "752ca6a2c8464468aec11a70e9add091",
            "26b1dc90183e411a9fae6026dd78d9c3",
            "82318263392249da8454b690539c4e19",
            "868e2fb4371244b0b306f5a6444718f9",
            "9cc0a83ebdcb442590b95cafe5fe6db4",
            "413c1176805c4899a547a94ad998a4ae",
            "4479af3536dd4ac08589367b9d8decc8",
            "3ed7539e5dc245dfa392f25dff49b965",
            "8e88df4a639940f38955414b2b0970bf",
            "6dfb81a0d8544d38aec2a72db2922acb",
            "3a32b9f00b714baca9d8b71fb0e8158a",
            "7d441791785c441999af97da1935f3ac",
            "92f98e5ef9c8471bbd064cc87d1b94fa",
            "9ef11017929d4613b13d97f8777b190a",
            "a37bf771e4da40cda63f38eca83fa87e",
            "7702c102180a4d28b6fb93dc0de3e781",
            "be2a1671cd3c4fd59a44569d0c4a579c",
            "82f9ebe43ec64b74b37deac961215b8f",
            "b051105b3b154c93874993a5e9e825a6",
            "fddcea26b73041abbcaa2892275bd3f3",
            "f84b4b2c100d4b78b0fd0e0877886557",
            "e0b0ee047aa44c96903da2a027a3a169",
            "94a107ff465a482bbbfa2f929e7f2f2e",
            "3e5fddce977242f983e89a51c67e5a57",
            "516e1317051047c499b9d37bb8e5dfe2",
            "07a0cf1e45f04a55bb18ccd051d23bd7",
            "35a69bd4445e4bb3be26f268bf73050d",
            "4e54d34ae79b4540abb584a0b886ac06",
            "d28a53cc07ac484395f984b22491f5d8"
          ]
        },
        "id": "2eE1Av7CfwxF",
        "outputId": "6df8828b-b82c-452e-9c35-f502ed2f5e19"
      },
      "execution_count": null,
      "outputs": [
        {
          "output_type": "stream",
          "name": "stderr",
          "text": [
            "WARNING:absl:Variant folder /root/tensorflow_datasets/tiny_shakespeare/1.0.0 has no dataset_info.json\n"
          ]
        },
        {
          "output_type": "stream",
          "name": "stdout",
          "text": [
            "Downloading and preparing dataset Unknown size (download: Unknown size, generated: Unknown size, total: Unknown size) to /root/tensorflow_datasets/tiny_shakespeare/1.0.0...\n"
          ]
        },
        {
          "output_type": "display_data",
          "data": {
            "text/plain": [
              "Dl Completed...: 0 url [00:00, ? url/s]"
            ],
            "application/vnd.jupyter.widget-view+json": {
              "version_major": 2,
              "version_minor": 0,
              "model_id": "0c30f93cc39b42e3a3629f9d4b7595da"
            }
          },
          "metadata": {}
        },
        {
          "output_type": "display_data",
          "data": {
            "text/plain": [
              "Dl Size...: 0 MiB [00:00, ? MiB/s]"
            ],
            "application/vnd.jupyter.widget-view+json": {
              "version_major": 2,
              "version_minor": 0,
              "model_id": "d05f89165a7e4b4cbddfc4d37811a853"
            }
          },
          "metadata": {}
        },
        {
          "output_type": "display_data",
          "data": {
            "text/plain": [
              "Generating splits...:   0%|          | 0/3 [00:00<?, ? splits/s]"
            ],
            "application/vnd.jupyter.widget-view+json": {
              "version_major": 2,
              "version_minor": 0,
              "model_id": "bf217dfe8b514d4cad16ab06f2231171"
            }
          },
          "metadata": {}
        },
        {
          "output_type": "display_data",
          "data": {
            "text/plain": [
              "Generating train examples...: 0 examples [00:00, ? examples/s]"
            ],
            "application/vnd.jupyter.widget-view+json": {
              "version_major": 2,
              "version_minor": 0,
              "model_id": "c97ac14d1c534370b4e6459590eb3930"
            }
          },
          "metadata": {}
        },
        {
          "output_type": "display_data",
          "data": {
            "text/plain": [
              "Shuffling /root/tensorflow_datasets/tiny_shakespeare/incomplete.0XW0DK_1.0.0/tiny_shakespeare-train.tfrecord*.…"
            ],
            "application/vnd.jupyter.widget-view+json": {
              "version_major": 2,
              "version_minor": 0,
              "model_id": "9aaffe73a2b945acb1905e0a805cbc04"
            }
          },
          "metadata": {}
        },
        {
          "output_type": "display_data",
          "data": {
            "text/plain": [
              "Generating validation examples...: 0 examples [00:00, ? examples/s]"
            ],
            "application/vnd.jupyter.widget-view+json": {
              "version_major": 2,
              "version_minor": 0,
              "model_id": "644a8c1501ec4f518ae637c0bce6e5c8"
            }
          },
          "metadata": {}
        },
        {
          "output_type": "display_data",
          "data": {
            "text/plain": [
              "Shuffling /root/tensorflow_datasets/tiny_shakespeare/incomplete.0XW0DK_1.0.0/tiny_shakespeare-validation.tfrec…"
            ],
            "application/vnd.jupyter.widget-view+json": {
              "version_major": 2,
              "version_minor": 0,
              "model_id": "14a876d7f6db49a59c6299213d44be17"
            }
          },
          "metadata": {}
        },
        {
          "output_type": "display_data",
          "data": {
            "text/plain": [
              "Generating test examples...: 0 examples [00:00, ? examples/s]"
            ],
            "application/vnd.jupyter.widget-view+json": {
              "version_major": 2,
              "version_minor": 0,
              "model_id": "3ed7539e5dc245dfa392f25dff49b965"
            }
          },
          "metadata": {}
        },
        {
          "output_type": "display_data",
          "data": {
            "text/plain": [
              "Shuffling /root/tensorflow_datasets/tiny_shakespeare/incomplete.0XW0DK_1.0.0/tiny_shakespeare-test.tfrecord*..…"
            ],
            "application/vnd.jupyter.widget-view+json": {
              "version_major": 2,
              "version_minor": 0,
              "model_id": "b051105b3b154c93874993a5e9e825a6"
            }
          },
          "metadata": {}
        },
        {
          "output_type": "stream",
          "name": "stdout",
          "text": [
            "Dataset tiny_shakespeare downloaded and prepared to /root/tensorflow_datasets/tiny_shakespeare/1.0.0. Subsequent calls will reuse this data.\n",
            "tfds.core.DatasetInfo(\n",
            "    name='tiny_shakespeare',\n",
            "    full_name='tiny_shakespeare/1.0.0',\n",
            "    description=\"\"\"\n",
            "    40,000 lines of Shakespeare from a variety of Shakespeare's plays. Featured in\n",
            "    Andrej Karpathy's blog post 'The Unreasonable Effectiveness of Recurrent Neural\n",
            "    Networks': http://karpathy.github.io/2015/05/21/rnn-effectiveness/.\n",
            "    \n",
            "    To use for e.g. character modelling:\n",
            "    \n",
            "    ```\n",
            "    d = tfds.load(name='tiny_shakespeare')['train']\n",
            "    d = d.map(lambda x: tf.strings.unicode_split(x['text'], 'UTF-8'))\n",
            "    # train split includes vocabulary for other splits\n",
            "    vocabulary = sorted(set(next(iter(d)).numpy()))\n",
            "    d = d.map(lambda x: {'cur_char': x[:-1], 'next_char': x[1:]})\n",
            "    d = d.unbatch()\n",
            "    seq_len = 100\n",
            "    batch_size = 2\n",
            "    d = d.batch(seq_len)\n",
            "    d = d.batch(batch_size)\n",
            "    ```\n",
            "    \"\"\",\n",
            "    homepage='https://github.com/karpathy/char-rnn/blob/master/data/tinyshakespeare/input.txt',\n",
            "    data_dir='/root/tensorflow_datasets/tiny_shakespeare/1.0.0',\n",
            "    file_format=tfrecord,\n",
            "    download_size=1.06 MiB,\n",
            "    dataset_size=1.06 MiB,\n",
            "    features=FeaturesDict({\n",
            "        'text': Text(shape=(), dtype=string),\n",
            "    }),\n",
            "    supervised_keys=None,\n",
            "    disable_shuffling=False,\n",
            "    nondeterministic_order=False,\n",
            "    splits={\n",
            "        'test': <SplitInfo num_examples=1, num_shards=1>,\n",
            "        'train': <SplitInfo num_examples=1, num_shards=1>,\n",
            "        'validation': <SplitInfo num_examples=1, num_shards=1>,\n",
            "    },\n",
            "    citation=\"\"\"@misc{\n",
            "      author={Karpathy, Andrej},\n",
            "      title={char-rnn},\n",
            "      year={2015},\n",
            "      howpublished={\\url{https://github.com/karpathy/char-rnn}}\n",
            "    }\"\"\",\n",
            ")\n",
            "Length of Shakespeare corpus: 1003855\n"
          ]
        }
      ]
    },
    {
      "cell_type": "markdown",
      "source": [
        "###Data Exploration"
      ],
      "metadata": {
        "id": "nRm6O4oVf6ar"
      }
    },
    {
      "cell_type": "code",
      "source": [
        "# Display a sample of the text corpus\n",
        "print(\"Sample text from the Shakespeare corpus:\")\n",
        "print(shakespeare_text[:500])  # print the first 500 characters\n",
        "\n",
        "# Build the vocabulary by identifying all unique characters in the text\n",
        "vocab = sorted(set(shakespeare_text))\n",
        "print(\"Vocabulary size:\", len(vocab))\n",
        "print(\"Vocabulary:\", vocab)\n",
        "\n",
        "# (Optional) Visualize a histogram of word lengths in the corpus\n",
        "import matplotlib.pyplot as plt\n",
        "words = shakespeare_text.split()\n",
        "plt.hist([len(word) for word in words], bins=range(1, max(len(word) for word in words) + 1))\n",
        "plt.title(\"Distribution of Word Lengths in Shakespeare Text\")\n",
        "plt.xlabel(\"Word Length\")\n",
        "plt.ylabel(\"Frequency\")\n",
        "plt.show()\n"
      ],
      "metadata": {
        "colab": {
          "base_uri": "https://localhost:8080/",
          "height": 1000
        },
        "id": "VkKp3H-gf8PQ",
        "outputId": "029ac155-12c5-4809-9d8c-892a5f524453"
      },
      "execution_count": null,
      "outputs": [
        {
          "output_type": "stream",
          "name": "stdout",
          "text": [
            "Sample text from the Shakespeare corpus:\n",
            "First Citizen:\n",
            "Before we proceed any further, hear me speak.\n",
            "\n",
            "All:\n",
            "Speak, speak.\n",
            "\n",
            "First Citizen:\n",
            "You are all resolved rather to die than to famish?\n",
            "\n",
            "All:\n",
            "Resolved. resolved.\n",
            "\n",
            "First Citizen:\n",
            "First, you know Caius Marcius is chief enemy to the people.\n",
            "\n",
            "All:\n",
            "We know't, we know't.\n",
            "\n",
            "First Citizen:\n",
            "Let us kill him, and we'll have corn at our own price.\n",
            "Is't a verdict?\n",
            "\n",
            "All:\n",
            "No more talking on't; let it be done: away, away!\n",
            "\n",
            "Second Citizen:\n",
            "One word, good citizens.\n",
            "\n",
            "First Citizen:\n",
            "We are accounted poor\n",
            "Vocabulary size: 65\n",
            "Vocabulary: ['\\n', ' ', '!', '$', '&', \"'\", ',', '-', '.', '3', ':', ';', '?', 'A', 'B', 'C', 'D', 'E', 'F', 'G', 'H', 'I', 'J', 'K', 'L', 'M', 'N', 'O', 'P', 'Q', 'R', 'S', 'T', 'U', 'V', 'W', 'X', 'Y', 'Z', 'a', 'b', 'c', 'd', 'e', 'f', 'g', 'h', 'i', 'j', 'k', 'l', 'm', 'n', 'o', 'p', 'q', 'r', 's', 't', 'u', 'v', 'w', 'x', 'y', 'z']\n"
          ]
        },
        {
          "output_type": "display_data",
          "data": {
            "text/plain": [
              "<Figure size 640x480 with 1 Axes>"
            ],
            "image/png": "[encoded data removed]"
          },
          "metadata": {}
        }
      ]
    },
    {
      "cell_type": "markdown",
      "source": [
        "###Data Preprocessing"
      ],
      "metadata": {
        "id": "CzwlfeYqf_0L"
      }
    },
    {
      "cell_type": "code",
      "source": [
        "import numpy as np\n",
        "\n",
        "# Create a mapping from characters to indices (character-level tokenization)\n",
        "token_to_index = {char: i for i, char in enumerate(vocab)}\n",
        "index_to_token = np.array(vocab)\n",
        "\n",
        "# Convert the entire text into an array of integers based on the mapping\n",
        "text_as_int = np.array([token_to_index[c] for c in shakespeare_text])\n",
        "print(\"Integer representation sample:\", text_as_int[:20])\n",
        "\n",
        "# Define a sequence length for input and target text pairs\n",
        "seq_length = 100\n",
        "examples_per_epoch = len(shakespeare_text) // seq_length\n",
        "\n",
        "# Create a TensorFlow dataset from the integer representation\n",
        "char_dataset = tf.data.Dataset.from_tensor_slices(text_as_int)\n",
        "\n",
        "# Batch the data into sequences of seq_length+1 (input + target)\n",
        "sequences = char_dataset.batch(seq_length + 1, drop_remainder=True)\n",
        "\n",
        "# Function to split each sequence into input and target parts\n",
        "def split_input_target(chunk):\n",
        "    input_text = chunk[:-1]   # all characters except the last one\n",
        "    target_text = chunk[1:]   # all characters except the first one\n",
        "    return input_text, target_text\n",
        "\n",
        "# Map the split function to each sequence in the dataset\n",
        "dataset = sequences.map(split_input_target)\n",
        "\n",
        "# Check one example from the processed dataset\n",
        "for input_example, target_example in dataset.take(1):\n",
        "    print(\"Input sequence sample:\", input_example.numpy())\n",
        "    print(\"Target sequence sample:\", target_example.numpy())\n"
      ],
      "metadata": {
        "colab": {
          "base_uri": "https://localhost:8080/"
        },
        "id": "YWcDZLMagBsN",
        "outputId": "3b124f6a-782e-43b2-ca53-ed2eab4ed481"
      },
      "execution_count": null,
      "outputs": [
        {
          "output_type": "stream",
          "name": "stdout",
          "text": [
            "Integer representation sample: [18 47 56 57 58  1 15 47 58 47 64 43 52 10  0 14 43 44 53 56]\n",
            "Input sequence sample: [18 47 56 57 58  1 15 47 58 47 64 43 52 10  0 14 43 44 53 56 43  1 61 43\n",
            "  1 54 56 53 41 43 43 42  1 39 52 63  1 44 59 56 58 46 43 56  6  1 46 43\n",
            " 39 56  1 51 43  1 57 54 43 39 49  8  0  0 13 50 50 10  0 31 54 43 39 49\n",
            "  6  1 57 54 43 39 49  8  0  0 18 47 56 57 58  1 15 47 58 47 64 43 52 10\n",
            "  0 37 53 59]\n",
            "Target sequence sample: [47 56 57 58  1 15 47 58 47 64 43 52 10  0 14 43 44 53 56 43  1 61 43  1\n",
            " 54 56 53 41 43 43 42  1 39 52 63  1 44 59 56 58 46 43 56  6  1 46 43 39\n",
            " 56  1 51 43  1 57 54 43 39 49  8  0  0 13 50 50 10  0 31 54 43 39 49  6\n",
            "  1 57 54 43 39 49  8  0  0 18 47 56 57 58  1 15 47 58 47 64 43 52 10  0\n",
            " 37 53 59  1]\n"
          ]
        }
      ]
    },
    {
      "cell_type": "markdown",
      "source": [
        "# Part IV: Model Implementation\n",
        "\n",
        "## 4.1 Model Design\n",
        "\n",
        "**Objective:**  \n",
        "Design an LSTM network for sequence prediction. For our character-level text generation, the network will include:\n",
        "- **Embedding Layer:** Converts input integers (each representing a character) into dense vectors. Although we're using character-level data, an embedding layer can help capture relationships in a lower-dimensional space.\n",
        "- **LSTM Layers:** One or more LSTM layers are used to capture sequential dependencies. We have chosen to include two LSTM layers. The first LSTM layer passes its output as a sequence to the next LSTM layer. A dropout layer is included to prevent overfitting.\n",
        "- **Dense Output Layer:** A fully connected (Dense) layer projects the LSTM outputs back to the dimensionality of the vocabulary, producing a probability distribution over the next character using a softmax activation.\n",
        "\n",
        "**Architecture Summary:**  \n",
        "1. **Input:** Sequences of integer-encoded characters.\n",
        "2. **Embedding Layer:** Transforms input integers to dense vectors.\n",
        "3. **First LSTM Layer:** Processes sequences and returns full sequences.\n",
        "4. **Dropout Layer:** Regularizes and prevents overfitting.\n",
        "5. **Second LSTM Layer:** Further processes the sequential data.\n",
        "6. **Dense Layer:** Outputs logits for each character in the vocabulary.\n",
        "\n",
        "This design is both simple and effective for sequence prediction tasks as described in the selected research paper.\n",
        "\n",
        "---\n",
        "\n",
        "## 4.2 Model Building\n",
        "\n",
        "**Objective:**  \n",
        "Implement the LSTM model using TensorFlow/Keras. The code builds the model with:\n",
        "- An Embedding layer,\n",
        "- Two LSTM layers (with dropout in between),\n",
        "- A Dense output layer.\n",
        "\n",
        "**Deliverable:**  \n",
        "Fully commented code that defines the model architecture.\n",
        "\n",
        "---\n",
        "\n",
        "## 4.3 Model Compilation and Configuration\n",
        "\n",
        "**Objective:**  \n",
        "Configure the training process by setting the loss function, optimizer, and metrics.\n",
        "- **Loss Function:** We use sparse categorical crossentropy, as the targets are integer labels.\n",
        "- **Optimizer:** Adam optimizer is chosen for efficient training.\n",
        "- **Metrics:** Typically, we monitor training loss, but you may add additional metrics if needed.\n",
        "\n",
        "**Deliverable:**  \n",
        "A concise code snippet showing how the model is compiled.\n",
        "\n",
        "---\n",
        "\n",
        "**Integration:**  \n",
        "This part integrates seamlessly with Parts I-III. The model inputs will be taken from the preprocessed data (character sequences obtained in Part III). The vocabulary size from Part III determines the output dimensions of the Dense layer. In the following code snippets, replace placeholder values (such as the vocabulary size and embedding dimensions) with those computed during preprocessing.\n"
      ],
      "metadata": {
        "id": "u83MZKExgnzL"
      }
    },
    {
      "cell_type": "markdown",
      "source": [
        "###Model Building"
      ],
      "metadata": {
        "id": "_Z84ePZHgqYe"
      }
    },
    {
      "cell_type": "code",
      "source": [
        "import tensorflow as tf\n",
        "from tensorflow.keras import Input, Model, layers\n",
        "\n",
        "# Ensure you have set the following variables from previous parts:\n",
        "# BATCH_SIZE, vocab_size, embedding_dim, rnn_units\n",
        "# Assuming `vocab` is a sorted list of unique characters built in Part III.\n",
        "vocab_size = len(vocab)\n",
        "\n",
        "# Hyperparameters for the model\n",
        "embedding_dim = 256  # Dimensionality for embedding layer\n",
        "rnn_units = 512      # Number of units in the LSTM layers\n",
        "BATCH_SIZE = 64      # Batch size for training\n",
        "\n",
        "# Define the input with fixed batch shape for stateful models\n",
        "inputs = Input(batch_shape=(BATCH_SIZE, None), dtype=tf.int32)\n",
        "\n",
        "# Embedding layer: transforms input integers to dense vectors\n",
        "x = layers.Embedding(input_dim=vocab_size, output_dim=embedding_dim)(inputs)\n",
        "\n",
        "# First LSTM layer: processes sequences and returns full sequences\n",
        "x = layers.LSTM(rnn_units, return_sequences=True, stateful=True, recurrent_initializer='glorot_uniform')(x)\n",
        "\n",
        "# Dropout layer for regularization\n",
        "x = layers.Dropout(0.2)(x)\n",
        "\n",
        "# Second LSTM layer: further processes the sequential data\n",
        "x = layers.LSTM(rnn_units, return_sequences=True, stateful=True, recurrent_initializer='glorot_uniform')(x)\n",
        "\n",
        "# Dense output layer: outputs logits for each character in the vocabulary\n",
        "outputs = layers.Dense(vocab_size)(x)\n",
        "\n",
        "# Build the model\n",
        "model = Model(inputs, outputs)\n",
        "\n",
        "# Display the model summary\n",
        "model.summary()\n"
      ],
      "metadata": {
        "colab": {
          "base_uri": "https://localhost:8080/",
          "height": 321
        },
        "id": "RzzWEWYGgsZE",
        "outputId": "95ccb263-5905-441d-c727-632e7b5a8423"
      },
      "execution_count": null,
      "outputs": [
        {
          "output_type": "display_data",
          "data": {
            "text/plain": [
              "\u001b[1mModel: \"functional\"\u001b[0m\n"
            ],
            "text/html": [
              "<pre style=\"white-space:pre;overflow-x:auto;line-height:normal;font-family:Menlo,'DejaVu Sans Mono',consolas,'Courier New',monospace\"><span style=\"font-weight: bold\">Model: \"functional\"</span>\n",
              "</pre>\n"
            ]
          },
          "metadata": {}
        },
        {
          "output_type": "display_data",
          "data": {
            "text/plain": [
              "┏━━━━━━━━━━━━━━━━━━━━━━━━━━━━━━━━━┳━━━━━━━━━━━━━━━━━━━━━━━━┳━━━━━━━━━━━━━━━┓\n",
              "┃\u001b[1m \u001b[0m\u001b[1mLayer (type)                   \u001b[0m\u001b[1m \u001b[0m┃\u001b[1m \u001b[0m\u001b[1mOutput Shape          \u001b[0m\u001b[1m \u001b[0m┃\u001b[1m \u001b[0m\u001b[1m      Param #\u001b[0m\u001b[1m \u001b[0m┃\n",
              "┡━━━━━━━━━━━━━━━━━━━━━━━━━━━━━━━━━╇━━━━━━━━━━━━━━━━━━━━━━━━╇━━━━━━━━━━━━━━━┩\n",
              "│ input_layer (\u001b[38;5;33mInputLayer\u001b[0m)        │ (\u001b[38;5;34m64\u001b[0m, \u001b[38;5;45mNone\u001b[0m)             │             \u001b[38;5;34m0\u001b[0m │\n",
              "├─────────────────────────────────┼────────────────────────┼───────────────┤\n",
              "│ embedding (\u001b[38;5;33mEmbedding\u001b[0m)           │ (\u001b[38;5;34m64\u001b[0m, \u001b[38;5;45mNone\u001b[0m, \u001b[38;5;34m256\u001b[0m)        │        \u001b[38;5;34m16,640\u001b[0m │\n",
              "├─────────────────────────────────┼────────────────────────┼───────────────┤\n",
              "│ lstm (\u001b[38;5;33mLSTM\u001b[0m)                     │ (\u001b[38;5;34m64\u001b[0m, \u001b[38;5;45mNone\u001b[0m, \u001b[38;5;34m512\u001b[0m)        │     \u001b[38;5;34m1,574,912\u001b[0m │\n",
              "├─────────────────────────────────┼────────────────────────┼───────────────┤\n",
              "│ dropout (\u001b[38;5;33mDropout\u001b[0m)               │ (\u001b[38;5;34m64\u001b[0m, \u001b[38;5;45mNone\u001b[0m, \u001b[38;5;34m512\u001b[0m)        │             \u001b[38;5;34m0\u001b[0m │\n",
              "├─────────────────────────────────┼────────────────────────┼───────────────┤\n",
              "│ lstm_1 (\u001b[38;5;33mLSTM\u001b[0m)                   │ (\u001b[38;5;34m64\u001b[0m, \u001b[38;5;45mNone\u001b[0m, \u001b[38;5;34m512\u001b[0m)        │     \u001b[38;5;34m2,099,200\u001b[0m │\n",
              "├─────────────────────────────────┼────────────────────────┼───────────────┤\n",
              "│ dense (\u001b[38;5;33mDense\u001b[0m)                   │ (\u001b[38;5;34m64\u001b[0m, \u001b[38;5;45mNone\u001b[0m, \u001b[38;5;34m65\u001b[0m)         │        \u001b[38;5;34m33,345\u001b[0m │\n",
              "└─────────────────────────────────┴────────────────────────┴───────────────┘\n"
            ],
            "text/html": [
              "<pre style=\"white-space:pre;overflow-x:auto;line-height:normal;font-family:Menlo,'DejaVu Sans Mono',consolas,'Courier New',monospace\">┏━━━━━━━━━━━━━━━━━━━━━━━━━━━━━━━━━┳━━━━━━━━━━━━━━━━━━━━━━━━┳━━━━━━━━━━━━━━━┓\n",
              "┃<span style=\"font-weight: bold\"> Layer (type)                    </span>┃<span style=\"font-weight: bold\"> Output Shape           </span>┃<span style=\"font-weight: bold\">       Param # </span>┃\n",
              "┡━━━━━━━━━━━━━━━━━━━━━━━━━━━━━━━━━╇━━━━━━━━━━━━━━━━━━━━━━━━╇━━━━━━━━━━━━━━━┩\n",
              "│ input_layer (<span style=\"color: #0087ff; text-decoration-color: #0087ff\">InputLayer</span>)        │ (<span style=\"color: #00af00; text-decoration-color: #00af00\">64</span>, <span style=\"color: #00d7ff; text-decoration-color: #00d7ff\">None</span>)             │             <span style=\"color: #00af00; text-decoration-color: #00af00\">0</span> │\n",
              "├─────────────────────────────────┼────────────────────────┼───────────────┤\n",
              "│ embedding (<span style=\"color: #0087ff; text-decoration-color: #0087ff\">Embedding</span>)           │ (<span style=\"color: #00af00; text-decoration-color: #00af00\">64</span>, <span style=\"color: #00d7ff; text-decoration-color: #00d7ff\">None</span>, <span style=\"color: #00af00; text-decoration-color: #00af00\">256</span>)        │        <span style=\"color: #00af00; text-decoration-color: #00af00\">16,640</span> │\n",
              "├─────────────────────────────────┼────────────────────────┼───────────────┤\n",
              "│ lstm (<span style=\"color: #0087ff; text-decoration-color: #0087ff\">LSTM</span>)                     │ (<span style=\"color: #00af00; text-decoration-color: #00af00\">64</span>, <span style=\"color: #00d7ff; text-decoration-color: #00d7ff\">None</span>, <span style=\"color: #00af00; text-decoration-color: #00af00\">512</span>)        │     <span style=\"color: #00af00; text-decoration-color: #00af00\">1,574,912</span> │\n",
              "├─────────────────────────────────┼────────────────────────┼───────────────┤\n",
              "│ dropout (<span style=\"color: #0087ff; text-decoration-color: #0087ff\">Dropout</span>)               │ (<span style=\"color: #00af00; text-decoration-color: #00af00\">64</span>, <span style=\"color: #00d7ff; text-decoration-color: #00d7ff\">None</span>, <span style=\"color: #00af00; text-decoration-color: #00af00\">512</span>)        │             <span style=\"color: #00af00; text-decoration-color: #00af00\">0</span> │\n",
              "├─────────────────────────────────┼────────────────────────┼───────────────┤\n",
              "│ lstm_1 (<span style=\"color: #0087ff; text-decoration-color: #0087ff\">LSTM</span>)                   │ (<span style=\"color: #00af00; text-decoration-color: #00af00\">64</span>, <span style=\"color: #00d7ff; text-decoration-color: #00d7ff\">None</span>, <span style=\"color: #00af00; text-decoration-color: #00af00\">512</span>)        │     <span style=\"color: #00af00; text-decoration-color: #00af00\">2,099,200</span> │\n",
              "├─────────────────────────────────┼────────────────────────┼───────────────┤\n",
              "│ dense (<span style=\"color: #0087ff; text-decoration-color: #0087ff\">Dense</span>)                   │ (<span style=\"color: #00af00; text-decoration-color: #00af00\">64</span>, <span style=\"color: #00d7ff; text-decoration-color: #00d7ff\">None</span>, <span style=\"color: #00af00; text-decoration-color: #00af00\">65</span>)         │        <span style=\"color: #00af00; text-decoration-color: #00af00\">33,345</span> │\n",
              "└─────────────────────────────────┴────────────────────────┴───────────────┘\n",
              "</pre>\n"
            ]
          },
          "metadata": {}
        },
        {
          "output_type": "display_data",
          "data": {
            "text/plain": [
              "\u001b[1m Total params: \u001b[0m\u001b[38;5;34m3,724,097\u001b[0m (14.21 MB)\n"
            ],
            "text/html": [
              "<pre style=\"white-space:pre;overflow-x:auto;line-height:normal;font-family:Menlo,'DejaVu Sans Mono',consolas,'Courier New',monospace\"><span style=\"font-weight: bold\"> Total params: </span><span style=\"color: #00af00; text-decoration-color: #00af00\">3,724,097</span> (14.21 MB)\n",
              "</pre>\n"
            ]
          },
          "metadata": {}
        },
        {
          "output_type": "display_data",
          "data": {
            "text/plain": [
              "\u001b[1m Trainable params: \u001b[0m\u001b[38;5;34m3,724,097\u001b[0m (14.21 MB)\n"
            ],
            "text/html": [
              "<pre style=\"white-space:pre;overflow-x:auto;line-height:normal;font-family:Menlo,'DejaVu Sans Mono',consolas,'Courier New',monospace\"><span style=\"font-weight: bold\"> Trainable params: </span><span style=\"color: #00af00; text-decoration-color: #00af00\">3,724,097</span> (14.21 MB)\n",
              "</pre>\n"
            ]
          },
          "metadata": {}
        },
        {
          "output_type": "display_data",
          "data": {
            "text/plain": [
              "\u001b[1m Non-trainable params: \u001b[0m\u001b[38;5;34m0\u001b[0m (0.00 B)\n"
            ],
            "text/html": [
              "<pre style=\"white-space:pre;overflow-x:auto;line-height:normal;font-family:Menlo,'DejaVu Sans Mono',consolas,'Courier New',monospace\"><span style=\"font-weight: bold\"> Non-trainable params: </span><span style=\"color: #00af00; text-decoration-color: #00af00\">0</span> (0.00 B)\n",
              "</pre>\n"
            ]
          },
          "metadata": {}
        }
      ]
    },
    {
      "cell_type": "markdown",
      "source": [
        "### Model Compilation and Configuration"
      ],
      "metadata": {
        "id": "MxJrKoBRgv_s"
      }
    },
    {
      "cell_type": "code",
      "source": [
        "# Compile the model with an appropriate loss function and optimizer\n",
        "model.compile(optimizer='adam',\n",
        "              loss=tf.keras.losses.SparseCategoricalCrossentropy(from_logits=True))\n",
        "\n",
        "# Optionally, print a confirmation that the model is compiled\n",
        "print(\"Model compiled with Adam optimizer and SparseCategoricalCrossentropy loss.\")\n"
      ],
      "metadata": {
        "colab": {
          "base_uri": "https://localhost:8080/"
        },
        "id": "479cTUBtgy0O",
        "outputId": "7ff449d8-e6e7-4791-c194-060ff922474c"
      },
      "execution_count": null,
      "outputs": [
        {
          "output_type": "stream",
          "name": "stdout",
          "text": [
            "Model compiled with Adam optimizer and SparseCategoricalCrossentropy loss.\n"
          ]
        }
      ]
    },
    {
      "cell_type": "markdown",
      "source": [
        "# Part V: Training and Evaluation\n",
        "\n",
        "## 5.1 Training Setup\n",
        "\n",
        "**Objective:**  \n",
        "Define the training configuration by setting hyperparameters (batch size, number of epochs, sequence length, etc.) and preparing the training dataset.\n",
        "\n",
        "**Tasks:**\n",
        "- Set key hyperparameters such as `BATCH_SIZE`, `BUFFER_SIZE`, and `EPOCHS`.\n",
        "- Ensure that the preprocessed dataset (from Part III) is correctly shuffled and batched to meet the stateful requirements.\n",
        "- Confirm that all batches maintain the fixed batch size.\n",
        "\n",
        "**Deliverable:**  \n",
        "A code snippet that configures the dataset for training, including batching and shuffling steps.\n",
        "\n",
        "---\n",
        "\n",
        "## 5.2 Model Training\n",
        "\n",
        "**Objective:**  \n",
        "Train the stateful LSTM model on the preprocessed dataset, and monitor performance using training logs and callbacks.\n",
        "\n",
        "**Tasks:**\n",
        "- Use the `model.fit()` method to initiate training.\n",
        "- Implement callbacks such as:\n",
        "  - **ModelCheckpoint:** Save the best model weights based on the training loss.\n",
        "  - **EarlyStopping:** Halt training early if the loss does not improve for a specified number of epochs.\n",
        "- Track and display training logs and metrics.\n",
        "\n",
        "**Deliverable:**  \n",
        "A code snippet that performs model training along with the callbacks, and displays the training logs/metrics.\n",
        "\n",
        "---\n",
        "\n",
        "## 5.3 Evaluation and Text Generation\n",
        "\n",
        "**Objective:**  \n",
        "Evaluate the model's performance by generating text sequences from a given seed input.\n",
        "\n",
        "**Tasks:**\n",
        "- Implement a text generation function that:\n",
        "  - Accepts a seed string.\n",
        "  - Resets the model’s state.\n",
        "  - Iteratively predicts the next character using the trained stateful model.\n",
        "  - Samples from the probability distribution (e.g., using categorical sampling) to form the next character.\n",
        "- Display the generated text to assess model performance.\n",
        "\n",
        "**Deliverable:**  \n",
        "A code snippet that generates a text sequence using the trained model and outputs the generated text.\n",
        "\n",
        "---\n",
        "\n",
        "**Integration Note:**  \n",
        "This Part V builds seamlessly on Parts I–IV by using the preprocessed dataset and the stateful LSTM model (from the Functional API) defined earlier. The training code, along with the callbacks, ensures that the model is effectively trained, and the text generation function demonstrates the model's learned capabilities.\n"
      ],
      "metadata": {
        "id": "ex5I2j9SidgV"
      }
    },
    {
      "cell_type": "markdown",
      "source": [
        "### Training Setup – Dataset Preparation and Batching"
      ],
      "metadata": {
        "id": "S0D-EqhMieWb"
      }
    },
    {
      "cell_type": "code",
      "source": [
        "# Set up key hyperparameters\n",
        "BATCH_SIZE = 64      # Must match the fixed batch size for the stateful model\n",
        "BUFFER_SIZE = 10000  # Buffer size for shuffling the dataset\n",
        "EPOCHS = 20          # Number of training epochs\n",
        "\n",
        "# Re-batch the preprocessed dataset (from Part III) for training purposes.\n",
        "# 'dataset' is assumed to be the mapped dataset of (input, target) pairs created in Part III.\n",
        "train_dataset = dataset.shuffle(BUFFER_SIZE).batch(BATCH_SIZE, drop_remainder=True)\n",
        "\n",
        "print(\"Training dataset prepared with batch size =\", BATCH_SIZE)\n"
      ],
      "metadata": {
        "colab": {
          "base_uri": "https://localhost:8080/"
        },
        "id": "WpwbQ20aiiBQ",
        "outputId": "18e77425-4e86-4412-be92-c51d42e1a363"
      },
      "execution_count": null,
      "outputs": [
        {
          "output_type": "stream",
          "name": "stdout",
          "text": [
            "Training dataset prepared with batch size = 64\n"
          ]
        }
      ]
    },
    {
      "cell_type": "markdown",
      "source": [
        "### Model Training"
      ],
      "metadata": {
        "id": "LOLtli4GikTo"
      }
    },
    {
      "cell_type": "code",
      "source": [
        "import tensorflow as tf\n",
        "from tensorflow.keras.callbacks import ModelCheckpoint, EarlyStopping\n",
        "\n",
        "# Define callbacks for training:\n",
        "checkpoint_callback = ModelCheckpoint(\n",
        "    filepath='./model_checkpoint.weights.h5',\n",
        "    save_weights_only=True,\n",
        "    save_best_only=True,\n",
        "    monitor='loss',\n",
        "    verbose=1\n",
        ")\n",
        "\n",
        "early_stopping_callback = EarlyStopping(\n",
        "    monitor='loss',\n",
        "    patience=3,\n",
        "    verbose=1\n",
        ")\n",
        "\n",
        "# Train the model using the fit() method\n",
        "history = model.fit(\n",
        "    train_dataset,\n",
        "    epochs=EPOCHS,\n",
        "    callbacks=[checkpoint_callback, early_stopping_callback]\n",
        ")\n",
        "\n",
        "print(\"Model training completed.\")\n"
      ],
      "metadata": {
        "colab": {
          "base_uri": "https://localhost:8080/"
        },
        "id": "ru8hQ1pkimWH",
        "outputId": "857ab24d-0b97-4dc9-aa34-877d2a91d02a"
      },
      "execution_count": null,
      "outputs": [
        {
          "output_type": "stream",
          "name": "stdout",
          "text": [
            "Epoch 1/20\n",
            "\u001b[1m155/155\u001b[0m \u001b[32m━━━━━━━━━━━━━━━━━━━━\u001b[0m\u001b[37m\u001b[0m \u001b[1m0s\u001b[0m 55ms/step - loss: 3.1550\n",
            "Epoch 1: loss improved from inf to 2.75138, saving model to ./model_checkpoint.weights.h5\n",
            "\u001b[1m155/155\u001b[0m \u001b[32m━━━━━━━━━━━━━━━━━━━━\u001b[0m\u001b[37m\u001b[0m \u001b[1m15s\u001b[0m 56ms/step - loss: 3.1525\n",
            "Epoch 2/20\n",
            "\u001b[1m155/155\u001b[0m \u001b[32m━━━━━━━━━━━━━━━━━━━━\u001b[0m\u001b[37m\u001b[0m \u001b[1m0s\u001b[0m 55ms/step - loss: 2.1291\n",
            "Epoch 2: loss improved from 2.75138 to 2.04080, saving model to ./model_checkpoint.weights.h5\n",
            "\u001b[1m155/155\u001b[0m \u001b[32m━━━━━━━━━━━━━━━━━━━━\u001b[0m\u001b[37m\u001b[0m \u001b[1m10s\u001b[0m 56ms/step - loss: 2.1286\n",
            "Epoch 3/20\n",
            "\u001b[1m155/155\u001b[0m \u001b[32m━━━━━━━━━━━━━━━━━━━━\u001b[0m\u001b[37m\u001b[0m \u001b[1m0s\u001b[0m 55ms/step - loss: 1.8355\n",
            "Epoch 3: loss improved from 2.04080 to 1.79597, saving model to ./model_checkpoint.weights.h5\n",
            "\u001b[1m155/155\u001b[0m \u001b[32m━━━━━━━━━━━━━━━━━━━━\u001b[0m\u001b[37m\u001b[0m \u001b[1m10s\u001b[0m 56ms/step - loss: 1.8352\n",
            "Epoch 4/20\n",
            "\u001b[1m155/155\u001b[0m \u001b[32m━━━━━━━━━━━━━━━━━━━━\u001b[0m\u001b[37m\u001b[0m \u001b[1m0s\u001b[0m 56ms/step - loss: 1.6873\n",
            "Epoch 4: loss improved from 1.79597 to 1.66484, saving model to ./model_checkpoint.weights.h5\n",
            "\u001b[1m155/155\u001b[0m \u001b[32m━━━━━━━━━━━━━━━━━━━━\u001b[0m\u001b[37m\u001b[0m \u001b[1m10s\u001b[0m 56ms/step - loss: 1.6871\n",
            "Epoch 5/20\n",
            "\u001b[1m155/155\u001b[0m \u001b[32m━━━━━━━━━━━━━━━━━━━━\u001b[0m\u001b[37m\u001b[0m \u001b[1m0s\u001b[0m 56ms/step - loss: 1.5957\n",
            "Epoch 5: loss improved from 1.66484 to 1.58407, saving model to ./model_checkpoint.weights.h5\n",
            "\u001b[1m155/155\u001b[0m \u001b[32m━━━━━━━━━━━━━━━━━━━━\u001b[0m\u001b[37m\u001b[0m \u001b[1m10s\u001b[0m 57ms/step - loss: 1.5956\n",
            "Epoch 6/20\n",
            "\u001b[1m155/155\u001b[0m \u001b[32m━━━━━━━━━━━━━━━━━━━━\u001b[0m\u001b[37m\u001b[0m \u001b[1m0s\u001b[0m 57ms/step - loss: 1.5399\n",
            "Epoch 6: loss improved from 1.58407 to 1.52849, saving model to ./model_checkpoint.weights.h5\n",
            "\u001b[1m155/155\u001b[0m \u001b[32m━━━━━━━━━━━━━━━━━━━━\u001b[0m\u001b[37m\u001b[0m \u001b[1m21s\u001b[0m 57ms/step - loss: 1.5398\n",
            "Epoch 7/20\n",
            "\u001b[1m155/155\u001b[0m \u001b[32m━━━━━━━━━━━━━━━━━━━━\u001b[0m\u001b[37m\u001b[0m \u001b[1m0s\u001b[0m 57ms/step - loss: 1.4930\n",
            "Epoch 7: loss improved from 1.52849 to 1.48824, saving model to ./model_checkpoint.weights.h5\n",
            "\u001b[1m155/155\u001b[0m \u001b[32m━━━━━━━━━━━━━━━━━━━━\u001b[0m\u001b[37m\u001b[0m \u001b[1m11s\u001b[0m 58ms/step - loss: 1.4929\n",
            "Epoch 8/20\n",
            "\u001b[1m155/155\u001b[0m \u001b[32m━━━━━━━━━━━━━━━━━━━━\u001b[0m\u001b[37m\u001b[0m \u001b[1m0s\u001b[0m 57ms/step - loss: 1.4585\n",
            "Epoch 8: loss improved from 1.48824 to 1.45616, saving model to ./model_checkpoint.weights.h5\n",
            "\u001b[1m155/155\u001b[0m \u001b[32m━━━━━━━━━━━━━━━━━━━━\u001b[0m\u001b[37m\u001b[0m \u001b[1m11s\u001b[0m 58ms/step - loss: 1.4585\n",
            "Epoch 9/20\n",
            "\u001b[1m155/155\u001b[0m \u001b[32m━━━━━━━━━━━━━━━━━━━━\u001b[0m\u001b[37m\u001b[0m \u001b[1m0s\u001b[0m 57ms/step - loss: 1.4282\n",
            "Epoch 9: loss improved from 1.45616 to 1.43036, saving model to ./model_checkpoint.weights.h5\n",
            "\u001b[1m155/155\u001b[0m \u001b[32m━━━━━━━━━━━━━━━━━━━━\u001b[0m\u001b[37m\u001b[0m \u001b[1m11s\u001b[0m 58ms/step - loss: 1.4282\n",
            "Epoch 10/20\n",
            "\u001b[1m155/155\u001b[0m \u001b[32m━━━━━━━━━━━━━━━━━━━━\u001b[0m\u001b[37m\u001b[0m \u001b[1m0s\u001b[0m 57ms/step - loss: 1.4084\n",
            "Epoch 10: loss improved from 1.43036 to 1.40904, saving model to ./model_checkpoint.weights.h5\n",
            "\u001b[1m155/155\u001b[0m \u001b[32m━━━━━━━━━━━━━━━━━━━━\u001b[0m\u001b[37m\u001b[0m \u001b[1m11s\u001b[0m 58ms/step - loss: 1.4084\n",
            "Epoch 11/20\n",
            "\u001b[1m155/155\u001b[0m \u001b[32m━━━━━━━━━━━━━━━━━━━━\u001b[0m\u001b[37m\u001b[0m \u001b[1m0s\u001b[0m 57ms/step - loss: 1.3892\n",
            "Epoch 11: loss improved from 1.40904 to 1.38980, saving model to ./model_checkpoint.weights.h5\n",
            "\u001b[1m155/155\u001b[0m \u001b[32m━━━━━━━━━━━━━━━━━━━━\u001b[0m\u001b[37m\u001b[0m \u001b[1m11s\u001b[0m 58ms/step - loss: 1.3892\n",
            "Epoch 12/20\n",
            "\u001b[1m155/155\u001b[0m \u001b[32m━━━━━━━━━━━━━━━━━━━━\u001b[0m\u001b[37m\u001b[0m \u001b[1m0s\u001b[0m 58ms/step - loss: 1.3698\n",
            "Epoch 12: loss improved from 1.38980 to 1.37431, saving model to ./model_checkpoint.weights.h5\n",
            "\u001b[1m155/155\u001b[0m \u001b[32m━━━━━━━━━━━━━━━━━━━━\u001b[0m\u001b[37m\u001b[0m \u001b[1m11s\u001b[0m 58ms/step - loss: 1.3698\n",
            "Epoch 13/20\n",
            "\u001b[1m155/155\u001b[0m \u001b[32m━━━━━━━━━━━━━━━━━━━━\u001b[0m\u001b[37m\u001b[0m \u001b[1m0s\u001b[0m 58ms/step - loss: 1.3537\n",
            "Epoch 13: loss improved from 1.37431 to 1.35986, saving model to ./model_checkpoint.weights.h5\n",
            "\u001b[1m155/155\u001b[0m \u001b[32m━━━━━━━━━━━━━━━━━━━━\u001b[0m\u001b[37m\u001b[0m \u001b[1m11s\u001b[0m 59ms/step - loss: 1.3537\n",
            "Epoch 14/20\n",
            "\u001b[1m155/155\u001b[0m \u001b[32m━━━━━━━━━━━━━━━━━━━━\u001b[0m\u001b[37m\u001b[0m \u001b[1m0s\u001b[0m 58ms/step - loss: 1.3425\n",
            "Epoch 14: loss improved from 1.35986 to 1.34639, saving model to ./model_checkpoint.weights.h5\n",
            "\u001b[1m155/155\u001b[0m \u001b[32m━━━━━━━━━━━━━━━━━━━━\u001b[0m\u001b[37m\u001b[0m \u001b[1m11s\u001b[0m 59ms/step - loss: 1.3426\n",
            "Epoch 15/20\n",
            "\u001b[1m155/155\u001b[0m \u001b[32m━━━━━━━━━━━━━━━━━━━━\u001b[0m\u001b[37m\u001b[0m \u001b[1m0s\u001b[0m 59ms/step - loss: 1.3358\n",
            "Epoch 15: loss improved from 1.34639 to 1.33408, saving model to ./model_checkpoint.weights.h5\n",
            "\u001b[1m155/155\u001b[0m \u001b[32m━━━━━━━━━━━━━━━━━━━━\u001b[0m\u001b[37m\u001b[0m \u001b[1m21s\u001b[0m 60ms/step - loss: 1.3358\n",
            "Epoch 16/20\n",
            "\u001b[1m155/155\u001b[0m \u001b[32m━━━━━━━━━━━━━━━━━━━━\u001b[0m\u001b[37m\u001b[0m \u001b[1m0s\u001b[0m 58ms/step - loss: 1.3242\n",
            "Epoch 16: loss improved from 1.33408 to 1.32322, saving model to ./model_checkpoint.weights.h5\n",
            "\u001b[1m155/155\u001b[0m \u001b[32m━━━━━━━━━━━━━━━━━━━━\u001b[0m\u001b[37m\u001b[0m \u001b[1m21s\u001b[0m 59ms/step - loss: 1.3242\n",
            "Epoch 17/20\n",
            "\u001b[1m155/155\u001b[0m \u001b[32m━━━━━━━━━━━━━━━━━━━━\u001b[0m\u001b[37m\u001b[0m \u001b[1m0s\u001b[0m 58ms/step - loss: 1.3098\n",
            "Epoch 17: loss improved from 1.32322 to 1.31168, saving model to ./model_checkpoint.weights.h5\n",
            "\u001b[1m155/155\u001b[0m \u001b[32m━━━━━━━━━━━━━━━━━━━━\u001b[0m\u001b[37m\u001b[0m \u001b[1m11s\u001b[0m 58ms/step - loss: 1.3098\n",
            "Epoch 18/20\n",
            "\u001b[1m155/155\u001b[0m \u001b[32m━━━━━━━━━━━━━━━━━━━━\u001b[0m\u001b[37m\u001b[0m \u001b[1m0s\u001b[0m 58ms/step - loss: 1.2988\n",
            "Epoch 18: loss improved from 1.31168 to 1.30221, saving model to ./model_checkpoint.weights.h5\n",
            "\u001b[1m155/155\u001b[0m \u001b[32m━━━━━━━━━━━━━━━━━━━━\u001b[0m\u001b[37m\u001b[0m \u001b[1m11s\u001b[0m 59ms/step - loss: 1.2989\n",
            "Epoch 19/20\n",
            "\u001b[1m155/155\u001b[0m \u001b[32m━━━━━━━━━━━━━━━━━━━━\u001b[0m\u001b[37m\u001b[0m \u001b[1m0s\u001b[0m 58ms/step - loss: 1.2908\n",
            "Epoch 19: loss improved from 1.30221 to 1.29302, saving model to ./model_checkpoint.weights.h5\n",
            "\u001b[1m155/155\u001b[0m \u001b[32m━━━━━━━━━━━━━━━━━━━━\u001b[0m\u001b[37m\u001b[0m \u001b[1m11s\u001b[0m 59ms/step - loss: 1.2908\n",
            "Epoch 20/20\n",
            "\u001b[1m155/155\u001b[0m \u001b[32m━━━━━━━━━━━━━━━━━━━━\u001b[0m\u001b[37m\u001b[0m \u001b[1m0s\u001b[0m 59ms/step - loss: 1.2776\n",
            "Epoch 20: loss improved from 1.29302 to 1.28323, saving model to ./model_checkpoint.weights.h5\n",
            "\u001b[1m155/155\u001b[0m \u001b[32m━━━━━━━━━━━━━━━━━━━━\u001b[0m\u001b[37m\u001b[0m \u001b[1m11s\u001b[0m 59ms/step - loss: 1.2777\n",
            "Model training completed.\n"
          ]
        }
      ]
    },
    {
      "cell_type": "markdown",
      "source": [
        "### Text Generation Function (Evaluation)"
      ],
      "metadata": {
        "id": "fOpHwrv7iosY"
      }
    },
    {
      "cell_type": "code",
      "source": [
        "import numpy as np\n",
        "import tensorflow as tf\n",
        "\n",
        "def reset_model_states(model):\n",
        "    \"\"\"\n",
        "    Reset the states of all stateful layers in the model.\n",
        "    \"\"\"\n",
        "    for layer in model.layers:\n",
        "        if hasattr(layer, 'reset_states'):\n",
        "            layer.reset_states()\n",
        "\n",
        "def generate_text(model, start_string, generation_length=100, batch_size=64):\n",
        "    \"\"\"\n",
        "    Generate text using a stateful model built with the Functional API.\n",
        "\n",
        "    Args:\n",
        "      model: The trained stateful LSTM model.\n",
        "      start_string: The seed string to initiate text generation.\n",
        "      generation_length: Number of characters to generate.\n",
        "      batch_size: The fixed batch size that the stateful model expects.\n",
        "\n",
        "    Returns:\n",
        "      A string containing the generated text based on the seed.\n",
        "    \"\"\"\n",
        "    # Convert the seed string into numerical token indices\n",
        "    seed_indices = [token_to_index[s] for s in start_string]\n",
        "\n",
        "    # Replicate the seed across the batch size so that the input shape matches the model's fixed batch dimension.\n",
        "    input_eval = tf.tile(tf.expand_dims(seed_indices, 0), [batch_size, 1])  # shape: (batch_size, len(seed))\n",
        "\n",
        "    # Update the model's internal state by running the seed through the model\n",
        "    _ = model(input_eval)\n",
        "\n",
        "    # Set input_eval to the last token of the seed for starting generation\n",
        "    input_eval = tf.tile(tf.expand_dims([seed_indices[-1]], 0), [batch_size, 1])\n",
        "\n",
        "    # Reset generated_text (we will only record predictions from the first sample)\n",
        "    generated_text = []\n",
        "\n",
        "    # Reset the states of all stateful layers before generation\n",
        "    reset_model_states(model)\n",
        "\n",
        "    for _ in range(generation_length):\n",
        "        # Obtain predictions. Expected output shape: (batch_size, 1, vocab_size)\n",
        "        predictions = model(input_eval)\n",
        "\n",
        "        # Use the first row for sampling the next token\n",
        "        predictions = predictions[0, 0, :]  # shape: (vocab_size,)\n",
        "\n",
        "        # Sample the next token using a multinomial distribution\n",
        "        predicted_id = tf.random.categorical(tf.expand_dims(predictions, 0), num_samples=1)[0, 0].numpy()\n",
        "\n",
        "        # Append the predicted token for the first batch instance to our generated text\n",
        "        generated_text.append(index_to_token[predicted_id])\n",
        "\n",
        "        # Prepare the next input: replicate the predicted token across the batch dimension\n",
        "        input_eval = tf.tile(tf.expand_dims([predicted_id], 0), [batch_size, 1])\n",
        "\n",
        "    return start_string + ''.join(generated_text)\n",
        "\n",
        "# Example usage:\n",
        "seed_text = \"ROMEO: \"\n",
        "generated_text = generate_text(model, seed_text, generation_length=300, batch_size=BATCH_SIZE)\n",
        "print(\"Generated Text:\\n\", generated_text)\n"
      ],
      "metadata": {
        "colab": {
          "base_uri": "https://localhost:8080/"
        },
        "id": "zUcpiab6irVH",
        "outputId": "99f2928c-cc07-464c-eeb7-c587486ef7c8"
      },
      "execution_count": null,
      "outputs": [
        {
          "output_type": "stream",
          "name": "stdout",
          "text": [
            "Generated Text:\n",
            " ROMEO: in the oath\n",
            "Hell the desires of flatterition.\n",
            "\n",
            "PRINCE EDWARD:\n",
            "And I'll come and desbandly, now Isabel,\n",
            "Thou wilt unprosperits the Tower, to thy, morn throne;\n",
            "Thou art his folks, which not her dear, and not good speaks it in the\n",
            "fronces for God and all as mine own your exide.\n",
            "I'll keep butchers to fi\n"
          ]
        }
      ]
    },
    {
      "cell_type": "markdown",
      "source": [
        "# Part VI: Analysis and Discussion\n",
        "\n",
        "## 6.1 Model Analysis\n",
        "\n",
        "**Objective:**  \n",
        "Analyze the training curves and overall model performance to determine whether the model is learning appropriately and converging. Compare the generated text outcomes with the expected behavior described in the research paper.\n",
        "\n",
        "**Discussion Points:**\n",
        "- **Training Curves:**  \n",
        "  Describe the behavior of the loss curve over the training epochs. Discuss if and how the loss decreased over time and whether the model reached convergence. If available, include plots of training loss (and accuracy, if tracked).\n",
        "  \n",
        "- **Generated Text Comparison:**  \n",
        "  Evaluate the quality of the generated text by comparing it with sample outputs from the research paper. Discuss whether the generated text captures the style, vocabulary, and sequential coherence of the target dataset (Shakespeare’s text).\n",
        "  \n",
        "- **Model Behavior:**  \n",
        "  Reflect on any observed overfitting or underfitting during training. Analyze if adjustments in hyperparameters (such as dropout rate, number of LSTM units, etc.) might improve convergence.\n",
        "  \n",
        "- **Alternative Models:**  \n",
        "  Consider a brief comparison with alternative architectures such as BiLSTM (Bidirectional LSTM). While the primary focus is on the LSTM model, note any potential benefits or drawbacks that a bidirectional approach may offer in capturing context for text generation.\n",
        "\n",
        "**Deliverable:**  \n",
        "A written analysis section that includes:\n",
        "- A discussion of the training loss (and accuracy, if available).\n",
        "- Interpretation of the generated text samples.\n",
        "- A comparison with alternative model architectures where applicable.\n",
        "\n",
        "---\n",
        "\n",
        "## 6.2 Limitations and Future Work\n",
        "\n",
        "**Objective:**  \n",
        "Critically evaluate the current implementation, identify its limitations, and suggest potential improvements and future research directions.\n",
        "\n",
        "**Discussion Points:**\n",
        "- **Limitations:**  \n",
        "  - Discuss potential issues such as data quality, model complexity, and training time.\n",
        "  - Mention any observed shortcomings in the generated text quality (e.g., lack of coherence, repetitive patterns).\n",
        "  - Address possible overfitting or underfitting situations encountered during training.\n",
        "  \n",
        "- **Future Work:**  \n",
        "  - Propose enhancements such as testing with a more complex model (e.g., upgrading to BiLSTM networks) or incorporating additional regularization techniques.\n",
        "  - Suggest exploring different tokenization strategies (character-level vs. word-level) to improve text generation quality.\n",
        "  - Recommend applying further hyperparameter tuning and experimenting with more advanced architectures (like Transformer-based models) for future iterations.\n",
        "\n",
        "**Deliverable:**  \n",
        "A bullet-point list or a written paragraph summarizing the limitations and outlining future work directions for enhancing the current implementation.\n",
        "\n",
        "---\n",
        "\n",
        "**Integration Note:**  \n",
        "This analysis section builds on the training and evaluation results obtained in Part V. Use the plots generated (from the code snippet below) for visual support and reference these in your written discussion. Be sure to include all observations and insights in your final project documentation.\n"
      ],
      "metadata": {
        "id": "uXyiHlo-lWHX"
      }
    },
    {
      "cell_type": "markdown",
      "source": [
        "### Plotting Training Curves"
      ],
      "metadata": {
        "id": "qznppSJwlc8n"
      }
    },
    {
      "cell_type": "code",
      "source": [
        "import matplotlib.pyplot as plt\n",
        "\n",
        "# Assuming the training history is stored in the 'history' variable from Part V\n",
        "loss = history.history['loss']\n",
        "epochs_range = range(len(loss))\n",
        "\n",
        "plt.figure(figsize=(8, 6))\n",
        "plt.plot(epochs_range, loss, label='Training Loss')\n",
        "plt.title('Training Loss over Epochs')\n",
        "plt.xlabel('Epochs')\n",
        "plt.ylabel('Loss')\n",
        "plt.legend()\n",
        "plt.grid(True)\n",
        "plt.show()\n"
      ],
      "metadata": {
        "colab": {
          "base_uri": "https://localhost:8080/",
          "height": 564
        },
        "id": "SzTG5UrplYtt",
        "outputId": "316aaa83-e67a-4f9a-be2f-4fd4fdef6385"
      },
      "execution_count": null,
      "outputs": [
        {
          "output_type": "display_data",
          "data": {
            "text/plain": [
              "<Figure size 800x600 with 1 Axes>"
            ],
            "image/png": "[encoded data removed]"
          },
          "metadata": {}
        }
      ]
    },
    {
      "cell_type": "markdown",
      "source": [
        "# Part VII: Demonstration and Documentation\n",
        "\n",
        "## 7.1 Code Documentation and Comments\n",
        "\n",
        "**Objective:**  \n",
        "Ensure that all code is well-documented and easy to understand. This includes:\n",
        "- Including inline comments throughout the code.\n",
        "- Adding detailed docstrings for each function and class.\n",
        "- Explaining the purpose and logic behind major code blocks.\n",
        "\n",
        "**Deliverable:**  \n",
        "Fully commented code in your repository. This is essential for readability and to help others (or future you) understand the implementation details.\n",
        "\n",
        "---\n",
        "\n",
        "## 7.2 Visualizations\n",
        "\n",
        "**Objective:**  \n",
        "Visualize key performance metrics and model predictions to support your analysis.\n",
        "\n",
        "**Tasks:**\n",
        "- Generate plots showing training (and validation, if applicable) loss and accuracy over epochs.\n",
        "- Create additional plots to compare real versus generated text samples.\n",
        "- Save these plots and include screenshots in your final report or README.\n",
        "\n",
        "**Deliverable:**  \n",
        "Plots and visualization files that provide a clear representation of model performance. These visual materials should be embedded in your README or a separate documentation file.\n",
        "\n",
        "---\n",
        "\n",
        "## 7.3 Final Report and GitHub Submission\n",
        "\n",
        "**Objective:**  \n",
        "Compile a complete final report that summarizes the project, including:\n",
        "- The research paper summary.\n",
        "- Detailed implementation steps (data loading, preprocessing, model implementation, training, evaluation, and analysis).\n",
        "- Screenshots of training logs, metrics, and generated outputs.\n",
        "- A declaration statement of academic integrity.\n",
        "- The GitHub repository link.\n",
        "\n",
        "**Tasks:**\n",
        "- Prepare a comprehensive README file that outlines the project.\n",
        "- Include all code, visualizations, and written analysis as discussed in previous parts.\n",
        "- Upload all supporting files and documentation to your GitHub repository.\n",
        "\n",
        "**Deliverable:**  \n",
        "A well-organized GitHub repository that contains:\n",
        "- Python Notebook/Script (with complete, commented code).\n",
        "- Visualizations (training plots and generated text samples).\n",
        "- A README file with the complete project documentation.\n",
        "- A declaration statement confirming adherence to academic integrity guidelines.\n",
        "\n",
        "---\n",
        "\n",
        "**Summary of Deliverables:**\n",
        "\n",
        "- **Code Files:**\n",
        "  - Data downloading/loading scripts.\n",
        "  - Data preprocessing pipeline.\n",
        "  - Model building, training, and evaluation functions.\n",
        "  - Text generation code.\n",
        "\n",
        "- **Visualizations:**\n",
        "  - Training loss/accuracy plots.\n",
        "  - Screenshots of generated text samples.\n",
        "\n",
        "- **Documentation:**\n",
        "  - A comprehensive README file with:\n",
        "    - Research paper summary.\n",
        "    - Dataset details and links.\n",
        "    - Step-by-step implementation instructions.\n",
        "    - Visualizations (embedded screenshots or linked files).\n",
        "    - A declaration statement and GitHub repository link.\n",
        "\n",
        "- **Final Report:**\n",
        "  - A detailed analysis and discussion section covering:\n",
        "    - Model performance evaluation.\n",
        "    - Limitations and potential improvements.\n",
        "    - Future research directions.\n",
        "\n",
        "This section brings together all parts of the project and demonstrates that every component – from data preprocessing to model evaluation – is well-documented and presented in a professional manner.\n"
      ],
      "metadata": {
        "id": "bSHH_Jv9nI1L"
      }
    },
    {
      "cell_type": "markdown",
      "source": [
        "### Saving a Plot for Training Loss:"
      ],
      "metadata": {
        "id": "PC_qm0FxnPqw"
      }
    },
    {
      "cell_type": "code",
      "source": [
        "import matplotlib.pyplot as plt\n",
        "\n",
        "# Assuming 'history' contains the training history from model.fit()\n",
        "loss = history.history['loss']\n",
        "epochs = range(1, len(loss) + 1)\n",
        "\n",
        "plt.figure(figsize=(8, 6))\n",
        "plt.plot(epochs, loss, label='Training Loss')\n",
        "plt.xlabel('Epochs')\n",
        "plt.ylabel('Loss')\n",
        "plt.title('Training Loss Over Epochs')\n",
        "plt.legend()\n",
        "plt.grid(True)\n",
        "plt.savefig('training_loss_plot.png')  # Save the plot to a file\n",
        "plt.show()\n",
        "\n",
        "print(\"Training loss plot saved as 'training_loss_plot.png'.\")\n"
      ],
      "metadata": {
        "colab": {
          "base_uri": "https://localhost:8080/",
          "height": 581
        },
        "id": "3Nsj6W5fnMSM",
        "outputId": "e50efd99-2b31-41bb-8d3c-875ebb5102bd"
      },
      "execution_count": null,
      "outputs": [
        {
          "output_type": "display_data",
          "data": {
            "text/plain": [
              "<Figure size 800x600 with 1 Axes>"
            ],
            "image/png": "[encoded data removed]"
          },
          "metadata": {}
        },
        {
          "output_type": "stream",
          "name": "stdout",
          "text": [
            "Training loss plot saved as 'training_loss_plot.png'.\n"
          ]
        }
      ]
    },
    {
      "cell_type": "markdown",
      "source": [
        "### Documenting the Model Summary:"
      ],
      "metadata": {
        "id": "n4kfiOtknSQ4"
      }
    },
    {
      "cell_type": "code",
      "source": [
        "# Save the model summary to a text file for inclusion in your documentation\n",
        "with open('model_summary.txt', 'w') as f:\n",
        "    model.summary(print_fn=lambda x: f.write(x + '\\n'))\n",
        "\n",
        "print(\"Model summary saved as 'model_summary.txt'.\")\n"
      ],
      "metadata": {
        "colab": {
          "base_uri": "https://localhost:8080/",
          "height": 34
        },
        "id": "eYflUXN4nT5l",
        "outputId": "bee10771-a322-4fab-b65b-e50e92b52866"
      },
      "execution_count": null,
      "outputs": [
        {
          "output_type": "display_data",
          "data": {
            "text/plain": [],
            "text/html": [
              "<pre style=\"white-space:pre;overflow-x:auto;line-height:normal;font-family:Menlo,'DejaVu Sans Mono',consolas,'Courier New',monospace\"></pre>\n"
            ]
          },
          "metadata": {}
        },
        {
          "output_type": "stream",
          "name": "stdout",
          "text": [
            "Model summary saved as 'model_summary.txt'.\n"
          ]
        }
      ]
    },
    {
      "cell_type": "markdown",
      "source": [
        "### Generating a Sample Text and Saving It:"
      ],
      "metadata": {
        "id": "76ImPhysnWF8"
      }
    },
    {
      "cell_type": "code",
      "source": [
        "# Generate a sample text using the text generation function from Part V\n",
        "seed_text = \"ROMEO: \"\n",
        "generated_text = generate_text(model, seed_text, generation_length=300)\n",
        "print(\"Generated Text:\\n\", generated_text)\n",
        "\n",
        "# Save the generated text to a file\n",
        "with open('generated_text_sample.txt', 'w') as f:\n",
        "    f.write(generated_text)\n",
        "\n",
        "print(\"Sample generated text saved as 'generated_text_sample.txt'.\")\n"
      ],
      "metadata": {
        "colab": {
          "base_uri": "https://localhost:8080/"
        },
        "id": "bf-LIllnnX-V",
        "outputId": "782d5b23-a17a-4c85-d352-cd3e0c6f3cf8"
      },
      "execution_count": null,
      "outputs": [
        {
          "output_type": "stream",
          "name": "stdout",
          "text": [
            "Generated Text:\n",
            " ROMEO: heaven,\n",
            "That Norfolk is your love of me\n",
            "Your pain of many head!\n",
            "\n",
            "Nurse:\n",
            "Here must have, yourselves, and tell you, have I.\n",
            "\n",
            "Servant:\n",
            "And leave me spoken; but with with they cried--\n",
            "With those that you better meers it not stpain.\n",
            "Help the winded closes and courage, and my hand.\n",
            "\n",
            "PETRUCHIO:\n",
            "Apt:\n",
            "Thesef\n",
            "Sample generated text saved as 'generated_text_sample.txt'.\n"
          ]
        }
      ]
    },
    {
      "cell_type": "markdown",
      "source": [
        "Declaration\n",
        "\n",
        "I, Suraj Didwagh, confirm that the work submitted in this assignment is my own and has been completed following academic integrity guidelines. The code is uploaded on my GitHub repository account, and the repository link is provided below:\n",
        "\n",
        "GitHub Repository Link:  https://github.com/surajdidwagh/Lab-Assignment-5.2.git\n",
        "\n",
        "Signature: Suraj Didwagh\n",
        "\n"
      ],
      "metadata": {
        "id": "jK-vBJannvtS"
      }
    }
  ]
}
